{
  "nbformat": 4,
  "nbformat_minor": 0,
  "metadata": {
    "colab": {
      "name": " Hotel booking data analysis project.ipynb",
      "provenance": [],
      "collapsed_sections": [],
      "include_colab_link": true
    },
    "kernelspec": {
      "name": "python3",
      "display_name": "Python 3"
    },
    "language_info": {
      "name": "python"
    }
  },
  "cells": [
    {
      "cell_type": "markdown",
      "metadata": {
        "id": "view-in-github",
        "colab_type": "text"
      },
      "source": [
        "<a href=\"https://colab.research.google.com/github/rajusuthar/Hotel-booking-analysis-project/blob/main/Hotel_booking_data_analysis_project.ipynb\" target=\"_parent\"><img src=\"https://colab.research.google.com/assets/colab-badge.svg\" alt=\"Open In Colab\"/></a>"
      ]
    },
    {
      "cell_type": "markdown",
      "metadata": {
        "id": "jvkZnWLWWlNs"
      },
      "source": [
        "##Have you ever wondered when the best time of year to book a hotel room is? Or the optimal length of stay in order to get the best daily rate? What if you wanted to predict whether or not a hotel was likely to receive a disproportionately high number of special requests? This hotel booking dataset can help you explore those questions!\n",
        "##This data set contains booking information for a city hotel and a resort hotel, and includes information such as when the booking was made, length of stay, the number of adults, children, and/or babies, and the number of available parking spaces, among other things. All personally identifying information has been removed from the data.\n",
        "##Explore and analyze the data to discover important factors that govern the bookings"
      ]
    },
    {
      "cell_type": "code",
      "metadata": {
        "id": "CFHJKz4BWppB"
      },
      "source": [
        ""
      ],
      "execution_count": null,
      "outputs": []
    },
    {
      "cell_type": "code",
      "metadata": {
        "id": "2GdW81OVWpY2"
      },
      "source": [
        ""
      ],
      "execution_count": null,
      "outputs": []
    },
    {
      "cell_type": "markdown",
      "metadata": {
        "id": "OMwpUdn8jyP1"
      },
      "source": [
        "## This data set contains booking information for a city hotel and a resort hotel and includes information such as when the booking was made, length of stay, the number of adults, children, and/or babies, and the number of available parking spaces, among other things. All personally identifying information has from the data.\n",
        "\n",
        "\n",
        "##We will perform exploratory data analysis with python to get insight from the data."
      ]
    },
    {
      "cell_type": "code",
      "metadata": {
        "colab": {
          "base_uri": "https://localhost:8080/"
        },
        "id": "S0TeuruyNjRO",
        "outputId": "c84afae4-d86f-42a6-fd35-bacbec548481"
      },
      "source": [
        "#mounting the drive\n",
        "from google.colab import drive\n",
        "drive.mount('/content/drive')"
      ],
      "execution_count": 1,
      "outputs": [
        {
          "output_type": "stream",
          "name": "stdout",
          "text": [
            "Mounted at /content/drive\n"
          ]
        }
      ]
    },
    {
      "cell_type": "code",
      "metadata": {
        "id": "rfxXLz7EP0BI"
      },
      "source": [
        "# importing package\n",
        "import numpy as np\n",
        "import pandas as pd\n",
        "import seaborn as sns\n",
        "import matplotlib.pyplot as plt\n",
        "%matplotlib inline"
      ],
      "execution_count": 2,
      "outputs": []
    },
    {
      "cell_type": "code",
      "metadata": {
        "id": "DdBD89_YuAG4",
        "colab": {
          "base_uri": "https://localhost:8080/",
          "height": 305
        },
        "outputId": "573f1126-9143-4287-8b4f-358ab48ed457"
      },
      "source": [
        "# reading the data and displaying data\n",
        "dir_path='/content/drive/MyDrive/Copy of Hotel Bookings.csv'\n",
        "hotel_df=pd.read_csv(dir_path)\n",
        "hotel_df.head()"
      ],
      "execution_count": 3,
      "outputs": [
        {
          "output_type": "execute_result",
          "data": {
            "text/html": [
              "<div>\n",
              "<style scoped>\n",
              "    .dataframe tbody tr th:only-of-type {\n",
              "        vertical-align: middle;\n",
              "    }\n",
              "\n",
              "    .dataframe tbody tr th {\n",
              "        vertical-align: top;\n",
              "    }\n",
              "\n",
              "    .dataframe thead th {\n",
              "        text-align: right;\n",
              "    }\n",
              "</style>\n",
              "<table border=\"1\" class=\"dataframe\">\n",
              "  <thead>\n",
              "    <tr style=\"text-align: right;\">\n",
              "      <th></th>\n",
              "      <th>hotel</th>\n",
              "      <th>is_canceled</th>\n",
              "      <th>lead_time</th>\n",
              "      <th>arrival_date_year</th>\n",
              "      <th>arrival_date_month</th>\n",
              "      <th>arrival_date_week_number</th>\n",
              "      <th>arrival_date_day_of_month</th>\n",
              "      <th>stays_in_weekend_nights</th>\n",
              "      <th>stays_in_week_nights</th>\n",
              "      <th>adults</th>\n",
              "      <th>children</th>\n",
              "      <th>babies</th>\n",
              "      <th>meal</th>\n",
              "      <th>country</th>\n",
              "      <th>market_segment</th>\n",
              "      <th>distribution_channel</th>\n",
              "      <th>is_repeated_guest</th>\n",
              "      <th>previous_cancellations</th>\n",
              "      <th>previous_bookings_not_canceled</th>\n",
              "      <th>reserved_room_type</th>\n",
              "      <th>assigned_room_type</th>\n",
              "      <th>booking_changes</th>\n",
              "      <th>deposit_type</th>\n",
              "      <th>agent</th>\n",
              "      <th>company</th>\n",
              "      <th>days_in_waiting_list</th>\n",
              "      <th>customer_type</th>\n",
              "      <th>adr</th>\n",
              "      <th>required_car_parking_spaces</th>\n",
              "      <th>total_of_special_requests</th>\n",
              "      <th>reservation_status</th>\n",
              "      <th>reservation_status_date</th>\n",
              "    </tr>\n",
              "  </thead>\n",
              "  <tbody>\n",
              "    <tr>\n",
              "      <th>0</th>\n",
              "      <td>Resort Hotel</td>\n",
              "      <td>0</td>\n",
              "      <td>342</td>\n",
              "      <td>2015</td>\n",
              "      <td>July</td>\n",
              "      <td>27</td>\n",
              "      <td>1</td>\n",
              "      <td>0</td>\n",
              "      <td>0</td>\n",
              "      <td>2</td>\n",
              "      <td>0.0</td>\n",
              "      <td>0</td>\n",
              "      <td>BB</td>\n",
              "      <td>PRT</td>\n",
              "      <td>Direct</td>\n",
              "      <td>Direct</td>\n",
              "      <td>0</td>\n",
              "      <td>0</td>\n",
              "      <td>0</td>\n",
              "      <td>C</td>\n",
              "      <td>C</td>\n",
              "      <td>3</td>\n",
              "      <td>No Deposit</td>\n",
              "      <td>NaN</td>\n",
              "      <td>NaN</td>\n",
              "      <td>0</td>\n",
              "      <td>Transient</td>\n",
              "      <td>0.0</td>\n",
              "      <td>0</td>\n",
              "      <td>0</td>\n",
              "      <td>Check-Out</td>\n",
              "      <td>2015-07-01</td>\n",
              "    </tr>\n",
              "    <tr>\n",
              "      <th>1</th>\n",
              "      <td>Resort Hotel</td>\n",
              "      <td>0</td>\n",
              "      <td>737</td>\n",
              "      <td>2015</td>\n",
              "      <td>July</td>\n",
              "      <td>27</td>\n",
              "      <td>1</td>\n",
              "      <td>0</td>\n",
              "      <td>0</td>\n",
              "      <td>2</td>\n",
              "      <td>0.0</td>\n",
              "      <td>0</td>\n",
              "      <td>BB</td>\n",
              "      <td>PRT</td>\n",
              "      <td>Direct</td>\n",
              "      <td>Direct</td>\n",
              "      <td>0</td>\n",
              "      <td>0</td>\n",
              "      <td>0</td>\n",
              "      <td>C</td>\n",
              "      <td>C</td>\n",
              "      <td>4</td>\n",
              "      <td>No Deposit</td>\n",
              "      <td>NaN</td>\n",
              "      <td>NaN</td>\n",
              "      <td>0</td>\n",
              "      <td>Transient</td>\n",
              "      <td>0.0</td>\n",
              "      <td>0</td>\n",
              "      <td>0</td>\n",
              "      <td>Check-Out</td>\n",
              "      <td>2015-07-01</td>\n",
              "    </tr>\n",
              "    <tr>\n",
              "      <th>2</th>\n",
              "      <td>Resort Hotel</td>\n",
              "      <td>0</td>\n",
              "      <td>7</td>\n",
              "      <td>2015</td>\n",
              "      <td>July</td>\n",
              "      <td>27</td>\n",
              "      <td>1</td>\n",
              "      <td>0</td>\n",
              "      <td>1</td>\n",
              "      <td>1</td>\n",
              "      <td>0.0</td>\n",
              "      <td>0</td>\n",
              "      <td>BB</td>\n",
              "      <td>GBR</td>\n",
              "      <td>Direct</td>\n",
              "      <td>Direct</td>\n",
              "      <td>0</td>\n",
              "      <td>0</td>\n",
              "      <td>0</td>\n",
              "      <td>A</td>\n",
              "      <td>C</td>\n",
              "      <td>0</td>\n",
              "      <td>No Deposit</td>\n",
              "      <td>NaN</td>\n",
              "      <td>NaN</td>\n",
              "      <td>0</td>\n",
              "      <td>Transient</td>\n",
              "      <td>75.0</td>\n",
              "      <td>0</td>\n",
              "      <td>0</td>\n",
              "      <td>Check-Out</td>\n",
              "      <td>2015-07-02</td>\n",
              "    </tr>\n",
              "    <tr>\n",
              "      <th>3</th>\n",
              "      <td>Resort Hotel</td>\n",
              "      <td>0</td>\n",
              "      <td>13</td>\n",
              "      <td>2015</td>\n",
              "      <td>July</td>\n",
              "      <td>27</td>\n",
              "      <td>1</td>\n",
              "      <td>0</td>\n",
              "      <td>1</td>\n",
              "      <td>1</td>\n",
              "      <td>0.0</td>\n",
              "      <td>0</td>\n",
              "      <td>BB</td>\n",
              "      <td>GBR</td>\n",
              "      <td>Corporate</td>\n",
              "      <td>Corporate</td>\n",
              "      <td>0</td>\n",
              "      <td>0</td>\n",
              "      <td>0</td>\n",
              "      <td>A</td>\n",
              "      <td>A</td>\n",
              "      <td>0</td>\n",
              "      <td>No Deposit</td>\n",
              "      <td>304.0</td>\n",
              "      <td>NaN</td>\n",
              "      <td>0</td>\n",
              "      <td>Transient</td>\n",
              "      <td>75.0</td>\n",
              "      <td>0</td>\n",
              "      <td>0</td>\n",
              "      <td>Check-Out</td>\n",
              "      <td>2015-07-02</td>\n",
              "    </tr>\n",
              "    <tr>\n",
              "      <th>4</th>\n",
              "      <td>Resort Hotel</td>\n",
              "      <td>0</td>\n",
              "      <td>14</td>\n",
              "      <td>2015</td>\n",
              "      <td>July</td>\n",
              "      <td>27</td>\n",
              "      <td>1</td>\n",
              "      <td>0</td>\n",
              "      <td>2</td>\n",
              "      <td>2</td>\n",
              "      <td>0.0</td>\n",
              "      <td>0</td>\n",
              "      <td>BB</td>\n",
              "      <td>GBR</td>\n",
              "      <td>Online TA</td>\n",
              "      <td>TA/TO</td>\n",
              "      <td>0</td>\n",
              "      <td>0</td>\n",
              "      <td>0</td>\n",
              "      <td>A</td>\n",
              "      <td>A</td>\n",
              "      <td>0</td>\n",
              "      <td>No Deposit</td>\n",
              "      <td>240.0</td>\n",
              "      <td>NaN</td>\n",
              "      <td>0</td>\n",
              "      <td>Transient</td>\n",
              "      <td>98.0</td>\n",
              "      <td>0</td>\n",
              "      <td>1</td>\n",
              "      <td>Check-Out</td>\n",
              "      <td>2015-07-03</td>\n",
              "    </tr>\n",
              "  </tbody>\n",
              "</table>\n",
              "</div>"
            ],
            "text/plain": [
              "          hotel  is_canceled  ...  reservation_status  reservation_status_date\n",
              "0  Resort Hotel            0  ...           Check-Out               2015-07-01\n",
              "1  Resort Hotel            0  ...           Check-Out               2015-07-01\n",
              "2  Resort Hotel            0  ...           Check-Out               2015-07-02\n",
              "3  Resort Hotel            0  ...           Check-Out               2015-07-02\n",
              "4  Resort Hotel            0  ...           Check-Out               2015-07-03\n",
              "\n",
              "[5 rows x 32 columns]"
            ]
          },
          "metadata": {},
          "execution_count": 3
        }
      ]
    },
    {
      "cell_type": "markdown",
      "metadata": {
        "id": "Hd8euyJylD1E"
      },
      "source": [
        "##First copy the dataset, so our original dataset remains unchanged"
      ]
    },
    {
      "cell_type": "code",
      "metadata": {
        "id": "ljKGCRZQlCjC"
      },
      "source": [
        "hotel_df_copy=hotel_df.copy()"
      ],
      "execution_count": 4,
      "outputs": []
    },
    {
      "cell_type": "markdown",
      "metadata": {
        "id": "_uEpMutElXoc"
      },
      "source": [
        "##now i am checking how much missing values in each colomn"
      ]
    },
    {
      "cell_type": "code",
      "metadata": {
        "colab": {
          "base_uri": "https://localhost:8080/"
        },
        "id": "zLc3sMQRlW-s",
        "outputId": "2df559f7-800d-4fd9-92c6-951fd744fcd3"
      },
      "source": [
        "hotel_df_copy.isnull().sum().sort_values(ascending=False)"
      ],
      "execution_count": 5,
      "outputs": [
        {
          "output_type": "execute_result",
          "data": {
            "text/plain": [
              "company                           112593\n",
              "agent                              16340\n",
              "country                              488\n",
              "children                               4\n",
              "lead_time                              0\n",
              "arrival_date_year                      0\n",
              "arrival_date_month                     0\n",
              "arrival_date_week_number               0\n",
              "is_canceled                            0\n",
              "market_segment                         0\n",
              "arrival_date_day_of_month              0\n",
              "stays_in_weekend_nights                0\n",
              "stays_in_week_nights                   0\n",
              "adults                                 0\n",
              "babies                                 0\n",
              "meal                                   0\n",
              "reservation_status_date                0\n",
              "distribution_channel                   0\n",
              "reservation_status                     0\n",
              "is_repeated_guest                      0\n",
              "previous_cancellations                 0\n",
              "previous_bookings_not_canceled         0\n",
              "reserved_room_type                     0\n",
              "assigned_room_type                     0\n",
              "booking_changes                        0\n",
              "deposit_type                           0\n",
              "days_in_waiting_list                   0\n",
              "customer_type                          0\n",
              "adr                                    0\n",
              "required_car_parking_spaces            0\n",
              "total_of_special_requests              0\n",
              "hotel                                  0\n",
              "dtype: int64"
            ]
          },
          "metadata": {},
          "execution_count": 5
        }
      ]
    },
    {
      "cell_type": "markdown",
      "metadata": {
        "id": "-uD-K_S4l9LO"
      },
      "source": [
        "## In our data set we have missing or null value in our data set so in agent and company because only id is available so i can replace null or missing value with zero \n",
        "## i think that if thier is no agent it mean particular customer done his/her booking directly without agent and some with company as well"
      ]
    },
    {
      "cell_type": "code",
      "metadata": {
        "id": "AY6eDpuVml7A"
      },
      "source": [
        "#replacing the null value of agent and company column\n",
        "hotel_df_copy[['agent','company']]=hotel_df_copy[['agent','company']].fillna(0)"
      ],
      "execution_count": 6,
      "outputs": []
    },
    {
      "cell_type": "markdown",
      "metadata": {
        "id": "ggskthrRoarg"
      },
      "source": [
        "## lead_time mean is 109 and if try to replace country null value using mean then thier is many country whose lead time is 109 and i think the country which appearing most of time in our data set ,i will use this country to replace  null value of coutry column"
      ]
    },
    {
      "cell_type": "code",
      "metadata": {
        "colab": {
          "base_uri": "https://localhost:8080/"
        },
        "id": "iAHMt3xwo9OX",
        "outputId": "d5dee161-920b-4c76-e8f0-4ca8076cc0e1"
      },
      "source": [
        "#finding which country is occuring most of time \n",
        "hotel_df_copy['country'].mode()"
      ],
      "execution_count": 7,
      "outputs": [
        {
          "output_type": "execute_result",
          "data": {
            "text/plain": [
              "0    PRT\n",
              "dtype: object"
            ]
          },
          "metadata": {},
          "execution_count": 7
        }
      ]
    },
    {
      "cell_type": "markdown",
      "metadata": {
        "id": "x4-6MDbWpR3S"
      },
      "source": [
        "## PRT country name is occuring most of the time so i am replacing null value of country column with PRT country"
      ]
    },
    {
      "cell_type": "code",
      "metadata": {
        "id": "6tTDKSjlnZVm"
      },
      "source": [
        "#replacing the null value \n",
        "hotel_df_copy['country'].fillna('PRT',inplace=True)"
      ],
      "execution_count": 8,
      "outputs": []
    },
    {
      "cell_type": "markdown",
      "metadata": {
        "id": "9njJ6v5bqey3"
      },
      "source": [
        "## now we have some null values in children column so i will replace this null value with mean of children"
      ]
    },
    {
      "cell_type": "code",
      "metadata": {
        "id": "10RLTfw7qw9H"
      },
      "source": [
        "children_mean=hotel_df_copy['children'].mean()\n",
        "hotel_df_copy['children'].fillna(children_mean,inplace=True)"
      ],
      "execution_count": 9,
      "outputs": []
    },
    {
      "cell_type": "code",
      "metadata": {
        "colab": {
          "base_uri": "https://localhost:8080/"
        },
        "id": "4cuZWdENrvRz",
        "outputId": "efc4a78a-1dd8-487a-831d-5f2f84f5f476"
      },
      "source": [
        "# now let look on our dataset\n",
        "hotel_df_copy.info()"
      ],
      "execution_count": 10,
      "outputs": [
        {
          "output_type": "stream",
          "name": "stdout",
          "text": [
            "<class 'pandas.core.frame.DataFrame'>\n",
            "RangeIndex: 119390 entries, 0 to 119389\n",
            "Data columns (total 32 columns):\n",
            " #   Column                          Non-Null Count   Dtype  \n",
            "---  ------                          --------------   -----  \n",
            " 0   hotel                           119390 non-null  object \n",
            " 1   is_canceled                     119390 non-null  int64  \n",
            " 2   lead_time                       119390 non-null  int64  \n",
            " 3   arrival_date_year               119390 non-null  int64  \n",
            " 4   arrival_date_month              119390 non-null  object \n",
            " 5   arrival_date_week_number        119390 non-null  int64  \n",
            " 6   arrival_date_day_of_month       119390 non-null  int64  \n",
            " 7   stays_in_weekend_nights         119390 non-null  int64  \n",
            " 8   stays_in_week_nights            119390 non-null  int64  \n",
            " 9   adults                          119390 non-null  int64  \n",
            " 10  children                        119390 non-null  float64\n",
            " 11  babies                          119390 non-null  int64  \n",
            " 12  meal                            119390 non-null  object \n",
            " 13  country                         119390 non-null  object \n",
            " 14  market_segment                  119390 non-null  object \n",
            " 15  distribution_channel            119390 non-null  object \n",
            " 16  is_repeated_guest               119390 non-null  int64  \n",
            " 17  previous_cancellations          119390 non-null  int64  \n",
            " 18  previous_bookings_not_canceled  119390 non-null  int64  \n",
            " 19  reserved_room_type              119390 non-null  object \n",
            " 20  assigned_room_type              119390 non-null  object \n",
            " 21  booking_changes                 119390 non-null  int64  \n",
            " 22  deposit_type                    119390 non-null  object \n",
            " 23  agent                           119390 non-null  float64\n",
            " 24  company                         119390 non-null  float64\n",
            " 25  days_in_waiting_list            119390 non-null  int64  \n",
            " 26  customer_type                   119390 non-null  object \n",
            " 27  adr                             119390 non-null  float64\n",
            " 28  required_car_parking_spaces     119390 non-null  int64  \n",
            " 29  total_of_special_requests       119390 non-null  int64  \n",
            " 30  reservation_status              119390 non-null  object \n",
            " 31  reservation_status_date         119390 non-null  object \n",
            "dtypes: float64(4), int64(16), object(12)\n",
            "memory usage: 29.1+ MB\n"
          ]
        }
      ]
    },
    {
      "cell_type": "markdown",
      "metadata": {
        "id": "aM_nSa5isEXk"
      },
      "source": [
        "##Thier are some column like children ,agent,company whose containing integer value but thier type is float so lets convert these data type into integer"
      ]
    },
    {
      "cell_type": "code",
      "metadata": {
        "id": "gLS17AiGsYjr"
      },
      "source": [
        "# type conversion from float to int\n",
        "hotel_df_copy[['agent','company','children']]=hotel_df_copy[['agent','company','children']].astype('int64')"
      ],
      "execution_count": 11,
      "outputs": []
    },
    {
      "cell_type": "code",
      "metadata": {
        "colab": {
          "base_uri": "https://localhost:8080/"
        },
        "id": "orAb_i8ltGNq",
        "outputId": "8576c65b-f38b-4985-a130-25bedbee4df9"
      },
      "source": [
        "hotel_df_copy.info()"
      ],
      "execution_count": 12,
      "outputs": [
        {
          "output_type": "stream",
          "name": "stdout",
          "text": [
            "<class 'pandas.core.frame.DataFrame'>\n",
            "RangeIndex: 119390 entries, 0 to 119389\n",
            "Data columns (total 32 columns):\n",
            " #   Column                          Non-Null Count   Dtype  \n",
            "---  ------                          --------------   -----  \n",
            " 0   hotel                           119390 non-null  object \n",
            " 1   is_canceled                     119390 non-null  int64  \n",
            " 2   lead_time                       119390 non-null  int64  \n",
            " 3   arrival_date_year               119390 non-null  int64  \n",
            " 4   arrival_date_month              119390 non-null  object \n",
            " 5   arrival_date_week_number        119390 non-null  int64  \n",
            " 6   arrival_date_day_of_month       119390 non-null  int64  \n",
            " 7   stays_in_weekend_nights         119390 non-null  int64  \n",
            " 8   stays_in_week_nights            119390 non-null  int64  \n",
            " 9   adults                          119390 non-null  int64  \n",
            " 10  children                        119390 non-null  int64  \n",
            " 11  babies                          119390 non-null  int64  \n",
            " 12  meal                            119390 non-null  object \n",
            " 13  country                         119390 non-null  object \n",
            " 14  market_segment                  119390 non-null  object \n",
            " 15  distribution_channel            119390 non-null  object \n",
            " 16  is_repeated_guest               119390 non-null  int64  \n",
            " 17  previous_cancellations          119390 non-null  int64  \n",
            " 18  previous_bookings_not_canceled  119390 non-null  int64  \n",
            " 19  reserved_room_type              119390 non-null  object \n",
            " 20  assigned_room_type              119390 non-null  object \n",
            " 21  booking_changes                 119390 non-null  int64  \n",
            " 22  deposit_type                    119390 non-null  object \n",
            " 23  agent                           119390 non-null  int64  \n",
            " 24  company                         119390 non-null  int64  \n",
            " 25  days_in_waiting_list            119390 non-null  int64  \n",
            " 26  customer_type                   119390 non-null  object \n",
            " 27  adr                             119390 non-null  float64\n",
            " 28  required_car_parking_spaces     119390 non-null  int64  \n",
            " 29  total_of_special_requests       119390 non-null  int64  \n",
            " 30  reservation_status              119390 non-null  object \n",
            " 31  reservation_status_date         119390 non-null  object \n",
            "dtypes: float64(1), int64(19), object(12)\n",
            "memory usage: 29.1+ MB\n"
          ]
        }
      ]
    },
    {
      "cell_type": "markdown",
      "metadata": {
        "id": "hDVyGtG44fLY"
      },
      "source": [
        "##Thier are some rows in which total customer (babies +adult+chiledren ) is zero so it mean there is no customer so lets drop this row "
      ]
    },
    {
      "cell_type": "code",
      "metadata": {
        "id": "ELbf81MG41XM"
      },
      "source": [
        "# droping the row in which thier number of customer is zero\n",
        "hotel_df_copy=hotel_df_copy.drop(hotel_df_copy[(hotel_df_copy.children+hotel_df_copy.adults+hotel_df_copy.babies)==0].index)"
      ],
      "execution_count": 13,
      "outputs": []
    },
    {
      "cell_type": "code",
      "metadata": {
        "id": "fHytLL9OTE_D"
      },
      "source": [
        "def convert_month_to_int(str):\n",
        "  '''\n",
        "  This funtion take month name (like march) as argument and return month number (like for march its 3)\n",
        "  '''\n",
        "  from time import strptime\n",
        "  month_name=str\n",
        "  month_num=strptime(month_name,'%B').tm_mon\n",
        "  return month_num"
      ],
      "execution_count": 14,
      "outputs": []
    },
    {
      "cell_type": "code",
      "metadata": {
        "id": "sbDn8sIBqjSS"
      },
      "source": [
        "# adding new column month number in dataframe\n",
        "hotel_df_copy['month_number']=hotel_df_copy['arrival_date_month'].apply(convert_month_to_int)"
      ],
      "execution_count": 15,
      "outputs": []
    },
    {
      "cell_type": "markdown",
      "metadata": {
        "id": "zdRhZCn-3rlD"
      },
      "source": [
        "## Thier are two hotel one is resort hotel and another one is city so let split our data in resort and city hotel and will do same analysis for both resort and city hotels "
      ]
    },
    {
      "cell_type": "code",
      "metadata": {
        "id": "F1huxLdh3-hf"
      },
      "source": [
        "#creating dataframe for both city and resort hotel \n",
        "resort_hotel_df=hotel_df_copy[hotel_df_copy['hotel']=='Resort Hotel']\n",
        "city_hotel_df=hotel_df_copy[hotel_df_copy['hotel']=='City Hotel']"
      ],
      "execution_count": 16,
      "outputs": []
    },
    {
      "cell_type": "code",
      "metadata": {
        "id": "MsQtdGWjrHND"
      },
      "source": [
        "# creating data frame for both hotel in which guest not canceled thier booking \n",
        "Not_canceled_city_hotel_dataframe=city_hotel_df[city_hotel_df['is_canceled']==0]\n",
        "Not_canceled_resort_hotel_dataframe=resort_hotel_df[resort_hotel_df['is_canceled']==0]\n",
        "\n",
        "# creating a data frame of city and resort hotel guest who not canceled thier booking\n",
        "canceled_city_hotel_dataframe=city_hotel_df[city_hotel_df['is_canceled']==1]\n",
        "canceled_resort_hotel_dataframe=resort_hotel_df[resort_hotel_df['is_canceled']==1]"
      ],
      "execution_count": 17,
      "outputs": []
    },
    {
      "cell_type": "markdown",
      "metadata": {
        "id": "wMkjfVxzvQdC"
      },
      "source": [
        "##i will analysing the data seperately for resort and city hotel because it will give us clear picture about resort and city hotel individually"
      ]
    },
    {
      "cell_type": "code",
      "metadata": {
        "colab": {
          "base_uri": "https://localhost:8080/",
          "height": 355
        },
        "id": "JoLZjS3wrvvx",
        "outputId": "aac26e3e-9a32-46be-f520-7f58dd252851"
      },
      "source": [
        "#these are top ten country for resort hotel \n",
        "resort_hotel_df['country'].value_counts().reset_index().head(10)"
      ],
      "execution_count": 18,
      "outputs": [
        {
          "output_type": "execute_result",
          "data": {
            "text/html": [
              "<div>\n",
              "<style scoped>\n",
              "    .dataframe tbody tr th:only-of-type {\n",
              "        vertical-align: middle;\n",
              "    }\n",
              "\n",
              "    .dataframe tbody tr th {\n",
              "        vertical-align: top;\n",
              "    }\n",
              "\n",
              "    .dataframe thead th {\n",
              "        text-align: right;\n",
              "    }\n",
              "</style>\n",
              "<table border=\"1\" class=\"dataframe\">\n",
              "  <thead>\n",
              "    <tr style=\"text-align: right;\">\n",
              "      <th></th>\n",
              "      <th>index</th>\n",
              "      <th>country</th>\n",
              "    </tr>\n",
              "  </thead>\n",
              "  <tbody>\n",
              "    <tr>\n",
              "      <th>0</th>\n",
              "      <td>PRT</td>\n",
              "      <td>18084</td>\n",
              "    </tr>\n",
              "    <tr>\n",
              "      <th>1</th>\n",
              "      <td>GBR</td>\n",
              "      <td>6813</td>\n",
              "    </tr>\n",
              "    <tr>\n",
              "      <th>2</th>\n",
              "      <td>ESP</td>\n",
              "      <td>3956</td>\n",
              "    </tr>\n",
              "    <tr>\n",
              "      <th>3</th>\n",
              "      <td>IRL</td>\n",
              "      <td>2166</td>\n",
              "    </tr>\n",
              "    <tr>\n",
              "      <th>4</th>\n",
              "      <td>FRA</td>\n",
              "      <td>1610</td>\n",
              "    </tr>\n",
              "    <tr>\n",
              "      <th>5</th>\n",
              "      <td>DEU</td>\n",
              "      <td>1203</td>\n",
              "    </tr>\n",
              "    <tr>\n",
              "      <th>6</th>\n",
              "      <td>CN</td>\n",
              "      <td>710</td>\n",
              "    </tr>\n",
              "    <tr>\n",
              "      <th>7</th>\n",
              "      <td>NLD</td>\n",
              "      <td>514</td>\n",
              "    </tr>\n",
              "    <tr>\n",
              "      <th>8</th>\n",
              "      <td>USA</td>\n",
              "      <td>479</td>\n",
              "    </tr>\n",
              "    <tr>\n",
              "      <th>9</th>\n",
              "      <td>ITA</td>\n",
              "      <td>459</td>\n",
              "    </tr>\n",
              "  </tbody>\n",
              "</table>\n",
              "</div>"
            ],
            "text/plain": [
              "  index  country\n",
              "0   PRT    18084\n",
              "1   GBR     6813\n",
              "2   ESP     3956\n",
              "3   IRL     2166\n",
              "4   FRA     1610\n",
              "5   DEU     1203\n",
              "6    CN      710\n",
              "7   NLD      514\n",
              "8   USA      479\n",
              "9   ITA      459"
            ]
          },
          "metadata": {},
          "execution_count": 18
        }
      ]
    },
    {
      "cell_type": "code",
      "metadata": {
        "colab": {
          "base_uri": "https://localhost:8080/",
          "height": 355
        },
        "id": "SPclaNqi848g",
        "outputId": "080560d1-f167-42e0-e0ad-bf9d08fdbd82"
      },
      "source": [
        "#these are top ten country for city hotel \n",
        "city_hotel_df['country'].value_counts().reset_index().head(10)"
      ],
      "execution_count": 19,
      "outputs": [
        {
          "output_type": "execute_result",
          "data": {
            "text/html": [
              "<div>\n",
              "<style scoped>\n",
              "    .dataframe tbody tr th:only-of-type {\n",
              "        vertical-align: middle;\n",
              "    }\n",
              "\n",
              "    .dataframe tbody tr th {\n",
              "        vertical-align: top;\n",
              "    }\n",
              "\n",
              "    .dataframe thead th {\n",
              "        text-align: right;\n",
              "    }\n",
              "</style>\n",
              "<table border=\"1\" class=\"dataframe\">\n",
              "  <thead>\n",
              "    <tr style=\"text-align: right;\">\n",
              "      <th></th>\n",
              "      <th>index</th>\n",
              "      <th>country</th>\n",
              "    </tr>\n",
              "  </thead>\n",
              "  <tbody>\n",
              "    <tr>\n",
              "      <th>0</th>\n",
              "      <td>PRT</td>\n",
              "      <td>30877</td>\n",
              "    </tr>\n",
              "    <tr>\n",
              "      <th>1</th>\n",
              "      <td>FRA</td>\n",
              "      <td>8791</td>\n",
              "    </tr>\n",
              "    <tr>\n",
              "      <th>2</th>\n",
              "      <td>DEU</td>\n",
              "      <td>6082</td>\n",
              "    </tr>\n",
              "    <tr>\n",
              "      <th>3</th>\n",
              "      <td>GBR</td>\n",
              "      <td>5307</td>\n",
              "    </tr>\n",
              "    <tr>\n",
              "      <th>4</th>\n",
              "      <td>ESP</td>\n",
              "      <td>4604</td>\n",
              "    </tr>\n",
              "    <tr>\n",
              "      <th>5</th>\n",
              "      <td>ITA</td>\n",
              "      <td>3302</td>\n",
              "    </tr>\n",
              "    <tr>\n",
              "      <th>6</th>\n",
              "      <td>BEL</td>\n",
              "      <td>1894</td>\n",
              "    </tr>\n",
              "    <tr>\n",
              "      <th>7</th>\n",
              "      <td>BRA</td>\n",
              "      <td>1792</td>\n",
              "    </tr>\n",
              "    <tr>\n",
              "      <th>8</th>\n",
              "      <td>USA</td>\n",
              "      <td>1614</td>\n",
              "    </tr>\n",
              "    <tr>\n",
              "      <th>9</th>\n",
              "      <td>NLD</td>\n",
              "      <td>1589</td>\n",
              "    </tr>\n",
              "  </tbody>\n",
              "</table>\n",
              "</div>"
            ],
            "text/plain": [
              "  index  country\n",
              "0   PRT    30877\n",
              "1   FRA     8791\n",
              "2   DEU     6082\n",
              "3   GBR     5307\n",
              "4   ESP     4604\n",
              "5   ITA     3302\n",
              "6   BEL     1894\n",
              "7   BRA     1792\n",
              "8   USA     1614\n",
              "9   NLD     1589"
            ]
          },
          "metadata": {},
          "execution_count": 19
        }
      ]
    },
    {
      "cell_type": "markdown",
      "metadata": {
        "id": "4eAAovUX-ufQ"
      },
      "source": [
        "## these are  the top country in out dataset which is containing our most of the data"
      ]
    },
    {
      "cell_type": "code",
      "metadata": {
        "id": "adS5xTCvSluZ"
      },
      "source": [
        "#creating new data frame which is containing only top 10 country of city hotel\n",
        "top_country_city_hotel_df=city_hotel_df[(city_hotel_df['country']=='PRT') | (city_hotel_df['country']=='FRA') | (city_hotel_df['country']=='DEU') | (city_hotel_df['country']=='GBR') | (city_hotel_df['country']=='ESP') | (city_hotel_df['country']=='ITA') | (city_hotel_df['country']=='BEL') | (city_hotel_df['country']=='BRA') | (city_hotel_df['country']=='USA') | (city_hotel_df['country']=='NLD')]\n"
      ],
      "execution_count": 22,
      "outputs": []
    },
    {
      "cell_type": "code",
      "metadata": {
        "id": "inXVBwA2Spie"
      },
      "source": [
        "#creating new data frame which is containing only top 10 country of city hotel\n",
        "top_country_resort_hotel_df=resort_hotel_df[(resort_hotel_df['country']=='PRT') | (resort_hotel_df['country']=='FRA') | (resort_hotel_df['country']=='DEU') | (resort_hotel_df['country']=='GBR') | (resort_hotel_df['country']=='ESP') | (resort_hotel_df['country']=='ITA') | (resort_hotel_df['country']=='BEL') | (resort_hotel_df['country']=='BRA') | (resort_hotel_df['country']=='USA') | (resort_hotel_df['country']=='NLD')]\n"
      ],
      "execution_count": 23,
      "outputs": []
    },
    {
      "cell_type": "markdown",
      "metadata": {
        "id": "lLq9H5UW_YCP"
      },
      "source": [
        "## analysis 1:- so lets look in our data and to find from which country most guest come to book hotels"
      ]
    },
    {
      "cell_type": "code",
      "metadata": {
        "id": "p-GClkxvvDjj"
      },
      "source": [
        "# guest who not cancelled the booking in city hotel \n",
        "Not_canceled_top_city_hotel_df=top_country_city_hotel_df[top_country_city_hotel_df['is_canceled']==0]\n",
        "# counting the number of guest in each country \n",
        "city_hotel_guest_count=Not_canceled_top_city_hotel_df['country'].value_counts().reset_index()\n"
      ],
      "execution_count": 24,
      "outputs": []
    },
    {
      "cell_type": "code",
      "metadata": {
        "id": "_sBmepAGRWsb"
      },
      "source": [
        "#renaming the column name\n",
        "city_hotel_guest_count.rename(columns={'index':'country','country':'number of guest in city hotel'},inplace=True)\n",
        "# replacing index with country\n",
        "city_hotel_guest_count.set_index('country',inplace=True)\n",
        "# sorting value by index(country)\n",
        "city_hotel_guest_count.sort_index(inplace=True)"
      ],
      "execution_count": 25,
      "outputs": []
    },
    {
      "cell_type": "code",
      "metadata": {
        "id": "vEoEXpWRRbL7"
      },
      "source": [
        "# guest who not cancelled the booking \n",
        "Not_canceled_top_resort_hotel_df=top_country_resort_hotel_df[top_country_resort_hotel_df['is_canceled']==0]\n",
        "# counting the number of guest in each country \n",
        "resort_hotel_guest_count=Not_canceled_top_resort_hotel_df['country'].value_counts().reset_index()"
      ],
      "execution_count": 26,
      "outputs": []
    },
    {
      "cell_type": "code",
      "metadata": {
        "id": "WCaJpmKSRf_M"
      },
      "source": [
        "#renaming the column name\n",
        "resort_hotel_guest_count.rename(columns={'index':'country','country':'number of guest in resort hotel'},inplace=True)\n",
        "# replacing index with country\n",
        "resort_hotel_guest_count.set_index('country',inplace=True)\n",
        "# sorting value by index(country)\n",
        "resort_hotel_guest_count.sort_index(inplace=True)"
      ],
      "execution_count": 27,
      "outputs": []
    },
    {
      "cell_type": "code",
      "metadata": {
        "id": "VWOHQTNhRlQ_"
      },
      "source": [
        "# concanting resort and city hotel\n",
        "city_and_resort_hotel_guest_df=pd.concat([city_hotel_guest_count,resort_hotel_guest_count],axis=1)\n",
        "#sorting the data set\n",
        "city_and_resort_hotel_guest_df.sort_values('number of guest in city hotel',ascending=False,inplace=True)"
      ],
      "execution_count": 29,
      "outputs": []
    },
    {
      "cell_type": "code",
      "metadata": {
        "colab": {
          "base_uri": "https://localhost:8080/",
          "height": 520
        },
        "id": "gEzJc_zYRn9s",
        "outputId": "2a3e82c6-a36a-4795-fe6b-ac07ed16adb8"
      },
      "source": [
        "ax=city_and_resort_hotel_guest_df.plot.bar(figsize=(11,7),fontsize=16)\n",
        "# setting title\n",
        "ax.set_title('NUMBER OF GUEST IN TOP TEN COUNTRY',fontsize=20)\n",
        "ax.set_xlabel('country name',fontsize=25)\n",
        "ax.set_ylabel('number of guest',fontsize=25)"
      ],
      "execution_count": 30,
      "outputs": [
        {
          "output_type": "execute_result",
          "data": {
            "text/plain": [
              "Text(0, 0.5, 'number of guest')"
            ]
          },
          "metadata": {},
          "execution_count": 30
        },
        {
          "output_type": "display_data",
          "data": {
            "image/png": "[encoded data removed]",
            "text/plain": [
              "<Figure size 792x504 with 1 Axes>"
            ]
          },
          "metadata": {
            "needs_background": "light"
          }
        }
      ]
    },
    {
      "cell_type": "markdown",
      "metadata": {
        "id": "HAe_UDlORvcZ"
      },
      "source": [
        "## its clearly visiable that most of the guest come from top five country PRT,FRA,DEU,GBR,ESP.\n",
        "##and also one more things that compare to resort hotel most of the guest preffered city hotel ,,\n",
        "\n",
        "## Thier is one country GBR (united kingdom) madeup of England,scotland Wales and northern ireland guest prefered resort hotel not city hotel "
      ]
    },
    {
      "cell_type": "markdown",
      "metadata": {
        "id": "g6EQY1Z6Rzn1"
      },
      "source": [
        "## analysis 2:- lets look how booking in city and resort hotel by month of year , for simplicity i am analysing the completed data and try to find out number of booking in each month of year for city and resort hotels"
      ]
    }
  ]
}